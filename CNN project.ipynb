{
 "cells": [
  {
   "cell_type": "code",
   "execution_count": 11,
   "id": "47ce0bcf",
   "metadata": {},
   "outputs": [],
   "source": [
    "import tensorflow as tf"
   ]
  },
  {
   "cell_type": "code",
   "execution_count": 12,
   "id": "538ed5ed",
   "metadata": {},
   "outputs": [],
   "source": [
    "from tensorflow.keras.datasets import cifar10"
   ]
  },
  {
   "cell_type": "code",
   "execution_count": 13,
   "id": "6fe161cb",
   "metadata": {},
   "outputs": [],
   "source": [
    "from tensorflow.keras.models import Sequential\n",
    "from tensorflow.keras.layers import Conv2D\n",
    "from tensorflow.keras.layers import MaxPool2D\n",
    "from tensorflow.keras.layers import Flatten\n",
    "from tensorflow.keras.layers import Dropout\n",
    "from tensorflow.keras.layers import Dense"
   ]
  },
  {
   "cell_type": "code",
   "execution_count": 14,
   "id": "822ae2d6",
   "metadata": {},
   "outputs": [],
   "source": [
    "(X_train,y_train),(X_test,y_test)=cifar10.load_data()\n",
    "X_train=X_train/255\n",
    "X_test=X_test/255"
   ]
  },
  {
   "cell_type": "code",
   "execution_count": 52,
   "id": "bd2fc899",
   "metadata": {
    "scrolled": true
   },
   "outputs": [
    {
     "name": "stdout",
     "output_type": "stream",
     "text": [
      "Epoch 1/25\n",
      "313/313 [==============================] - 7s 20ms/step - loss: 1.8232 - accuracy: 0.3373\n",
      "Epoch 2/25\n",
      "313/313 [==============================] - 6s 20ms/step - loss: 1.3903 - accuracy: 0.5016\n",
      "Epoch 3/25\n",
      "313/313 [==============================] - 6s 20ms/step - loss: 1.2008 - accuracy: 0.5775\n",
      "Epoch 4/25\n",
      "313/313 [==============================] - 7s 23ms/step - loss: 1.0570 - accuracy: 0.6221\n",
      "Epoch 5/25\n",
      "313/313 [==============================] - 7s 24ms/step - loss: 0.9167 - accuracy: 0.6826\n",
      "Epoch 6/25\n",
      "313/313 [==============================] - 7s 22ms/step - loss: 0.7879 - accuracy: 0.7227\n",
      "Epoch 7/25\n",
      "313/313 [==============================] - 8s 25ms/step - loss: 0.6794 - accuracy: 0.7656\n",
      "Epoch 8/25\n",
      "313/313 [==============================] - 7s 24ms/step - loss: 0.5734 - accuracy: 0.8017\n",
      "Epoch 9/25\n",
      "313/313 [==============================] - 8s 25ms/step - loss: 0.4534 - accuracy: 0.8471\n",
      "Epoch 10/25\n",
      "313/313 [==============================] - 7s 24ms/step - loss: 0.3564 - accuracy: 0.8821\n",
      "Epoch 11/25\n",
      "313/313 [==============================] - 7s 21ms/step - loss: 0.2758 - accuracy: 0.9150\n",
      "Epoch 12/25\n",
      "313/313 [==============================] - 7s 23ms/step - loss: 0.2131 - accuracy: 0.9377\n",
      "Epoch 13/25\n",
      "313/313 [==============================] - 8s 25ms/step - loss: 0.1549 - accuracy: 0.9565\n",
      "Epoch 14/25\n",
      "313/313 [==============================] - 7s 23ms/step - loss: 0.1209 - accuracy: 0.9678\n",
      "Epoch 15/25\n",
      "313/313 [==============================] - 7s 21ms/step - loss: 0.0986 - accuracy: 0.9717\n",
      "Epoch 16/25\n",
      "313/313 [==============================] - 7s 22ms/step - loss: 0.1156 - accuracy: 0.9665\n",
      "Epoch 17/25\n",
      "313/313 [==============================] - 7s 21ms/step - loss: 0.0766 - accuracy: 0.9771\n",
      "Epoch 18/25\n",
      "313/313 [==============================] - 7s 22ms/step - loss: 0.0759 - accuracy: 0.9771\n",
      "Epoch 19/25\n",
      "313/313 [==============================] - 7s 22ms/step - loss: 0.0406 - accuracy: 0.9910\n",
      "Epoch 20/25\n",
      "313/313 [==============================] - 7s 24ms/step - loss: 0.0660 - accuracy: 0.9803\n",
      "Epoch 21/25\n",
      "313/313 [==============================] - 7s 23ms/step - loss: 0.0391 - accuracy: 0.9902\n",
      "Epoch 22/25\n",
      "313/313 [==============================] - 7s 22ms/step - loss: 0.0786 - accuracy: 0.9742\n",
      "Epoch 23/25\n",
      "313/313 [==============================] - 7s 22ms/step - loss: 0.1003 - accuracy: 0.9676\n",
      "Epoch 24/25\n",
      "313/313 [==============================] - 7s 22ms/step - loss: 0.0550 - accuracy: 0.9825\n",
      "Epoch 25/25\n",
      "313/313 [==============================] - 7s 23ms/step - loss: 0.0699 - accuracy: 0.9781\n"
     ]
    },
    {
     "data": {
      "text/plain": [
       "<keras.callbacks.History at 0x176592faf10>"
      ]
     },
     "execution_count": 52,
     "metadata": {},
     "output_type": "execute_result"
    }
   ],
   "source": [
    "model=Sequential()\n",
    "model.add(Conv2D(32,(3, 3), activation='relu',input_shape=(32,32,3)))\n",
    "model.add(MaxPool2D((2,2)))\n",
    "model.add(Flatten())\n",
    "model.add(Dense(200,activation='relu'))\n",
    "model.add(Dense(50,activation='relu'))\n",
    "model.add(Dense(10,activation='softmax'))\n",
    "model.compile(optimizer='adam',loss='sparse_categorical_crossentropy',metrics=['accuracy'])\n",
    "model.fit(X_test, y_test, epochs=25)"
   ]
  },
  {
   "cell_type": "code",
   "execution_count": 53,
   "id": "2ac1f055",
   "metadata": {
    "scrolled": true
   },
   "outputs": [
    {
     "name": "stdout",
     "output_type": "stream",
     "text": [
      "313/313 [==============================] - 1s 4ms/step - loss: 0.0915 - accuracy: 0.9699\n"
     ]
    },
    {
     "data": {
      "text/plain": [
       "[0.09148656576871872, 0.9699000120162964]"
      ]
     },
     "execution_count": 53,
     "metadata": {},
     "output_type": "execute_result"
    }
   ],
   "source": [
    "model.evaluate(X_test, y_test)"
   ]
  },
  {
   "cell_type": "code",
   "execution_count": null,
   "id": "31d45e92",
   "metadata": {},
   "outputs": [],
   "source": []
  },
  {
   "cell_type": "code",
   "execution_count": null,
   "id": "6bd877ad",
   "metadata": {},
   "outputs": [],
   "source": []
  }
 ],
 "metadata": {
  "kernelspec": {
   "display_name": "Python 3 (ipykernel)",
   "language": "python",
   "name": "python3"
  },
  "language_info": {
   "codemirror_mode": {
    "name": "ipython",
    "version": 3
   },
   "file_extension": ".py",
   "mimetype": "text/x-python",
   "name": "python",
   "nbconvert_exporter": "python",
   "pygments_lexer": "ipython3",
   "version": "3.9.13"
  }
 },
 "nbformat": 4,
 "nbformat_minor": 5
}
